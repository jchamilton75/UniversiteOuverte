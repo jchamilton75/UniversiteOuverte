{
  "nbformat": 4,
  "nbformat_minor": 0,
  "metadata": {
    "colab": {
      "provenance": [],
      "authorship_tag": "ABX9TyPIiPcmKWbYp0wMyqgHXVe2",
      "include_colab_link": true
    },
    "kernelspec": {
      "name": "python3",
      "display_name": "Python 3"
    }
  },
  "cells": [
    {
      "cell_type": "markdown",
      "metadata": {
        "id": "view-in-github",
        "colab_type": "text"
      },
      "source": [
        "<a href=\"https://colab.research.google.com/github/jchamilton75/UniversiteOuverte/blob/main/UO_TP_1.ipynb\" target=\"_parent\"><img src=\"https://colab.research.google.com/assets/colab-badge.svg\" alt=\"Open In Colab\"/></a>"
      ]
    },
    {
      "cell_type": "markdown",
      "metadata": {
        "id": "9rHbV8tKeGdo"
      },
      "source": [
        "# Premier notebook: prise en main de python et premiers graphiques simples"
      ]
    },
    {
      "cell_type": "markdown",
      "source": [
        "## Initialisation du notebook"
      ],
      "metadata": {
        "id": "HmhGWSBT2f84"
      }
    },
    {
      "cell_type": "markdown",
      "source": [
        "\n",
        "Dans un notebook Python, il y a des cellules qui peuvent être \"code\" ou \"texte\". Les cellules de code peuvent être reconnues par le \"In[xx]\" au début (xx est un nombre qui dépend de l'ordre d'exécution des cellules). Elles peuvent être exécutées en appuyant sur \"Shift+Enter\" et le code qu'elles contiennent est exécuté par la machine. S'il y a une sortie, elle est affichée dans une autre cellule en dessous de celle d'entrée, une cellule qui commence par \"Out[xx]\".\n",
        "\n",
        "Avant de commencer, on a généralement besoin de configurer quelques paramètres pour le notebook afin que les graphiques soient beaux et que les bibliothèques habituelles soient importées. Cela est obtenu en exécutant la cellule ci-dessous:"
      ],
      "metadata": {
        "id": "XuLcgbxR2I7s"
      }
    },
    {
      "cell_type": "code",
      "metadata": {
        "id": "B0G-WGDYdXHW"
      },
      "source": [
        "import sys\n",
        "print(\"Using Python {}\".format(sys.version_info[0]))\n",
        "\n",
        "from pylab import *\n",
        "import numpy as np\n",
        "%matplotlib inline\n",
        "from matplotlib import rc\n",
        "from importlib import reload\n",
        "rc('figure',figsize=(10,5))\n",
        "rc('font',size=12)\n",
        "rc('text',usetex=False)"
      ],
      "execution_count": null,
      "outputs": []
    },
    {
      "cell_type": "markdown",
      "source": [
        "## Manipulations de données avec python"
      ],
      "metadata": {
        "id": "qpT6EugcoHam"
      }
    },
    {
      "cell_type": "markdown",
      "source": [
        "Commençons par faire une opération simple:"
      ],
      "metadata": {
        "id": "6kkHhBmAoOfi"
      }
    },
    {
      "cell_type": "code",
      "source": [
        "2+5"
      ],
      "metadata": {
        "id": "TlMqNSDFpOQe"
      },
      "execution_count": null,
      "outputs": []
    },
    {
      "cell_type": "markdown",
      "source": [
        "Bien entendu en informatique on aime utiliser des variables pour contenir des chiffres, on peut ainsi ecrire des calculs formels:"
      ],
      "metadata": {
        "id": "kfBF9CiUpR_f"
      }
    },
    {
      "cell_type": "code",
      "source": [
        "a = 2\n",
        "b = 5\n",
        "c = a + b\n",
        "print(c)"
      ],
      "metadata": {
        "id": "slchAgeApcZ9"
      },
      "execution_count": null,
      "outputs": []
    },
    {
      "cell_type": "markdown",
      "source": [
        "Ici nous avons utilisé des variables \"scalaires\" c'est à dire qui ne contiennent qu'un seul élément. Comme nous avons mis des entier, python considère que ce sont des entiers. Si nous avions mis des chiffres à virgule, python les stockerait alors comme des réels (*float*)"
      ],
      "metadata": {
        "id": "PDEnB9iNpi5N"
      }
    },
    {
      "cell_type": "code",
      "source": [
        "a = 2\n",
        "print(\"a est de type \", type(a))\n",
        "\n",
        "b = 3.5\n",
        "print(\"b est de type\", type(b))"
      ],
      "metadata": {
        "id": "_kvADn7tp3gj"
      },
      "execution_count": null,
      "outputs": []
    },
    {
      "cell_type": "markdown",
      "source": [
        "Python a ceci d'à la fois superbe et terriblement dangereux que l'on n'a pas besoin de spécifier les types des variables *a priori* (contrairement à la plupart des langages plus anciens - ou de plus \"bas niveau\"). On peut même changer le type d'une variable au fur et à mesure:"
      ],
      "metadata": {
        "id": "hDu7uBnAqXGG"
      }
    },
    {
      "cell_type": "code",
      "source": [
        "a = 1\n",
        "print(type(a))\n",
        "a = 1.5\n",
        "print(type(a))"
      ],
      "metadata": {
        "id": "2VPb7_Hoqpg6"
      },
      "execution_count": null,
      "outputs": []
    },
    {
      "cell_type": "markdown",
      "source": [
        "Python comprend quand il faut qu'il change le type de variable de lui-même:"
      ],
      "metadata": {
        "id": "u7zMKGBaq7eO"
      }
    },
    {
      "cell_type": "code",
      "source": [
        "a = 1\n",
        "print(type(a))\n",
        "b = a * 1.5\n",
        "print(type(b))"
      ],
      "metadata": {
        "id": "syI_LzjfrBnk"
      },
      "execution_count": null,
      "outputs": []
    },
    {
      "cell_type": "markdown",
      "source": [
        "Au delà des scalaires, on peut aussi manipuler des tableaux à N dimensions. Il y a plusieurs manières de manipuler des tab;eaux de chiffres en python \"de base\" (listes, tablaux, ou tuples). Ici, nous avons importé dès le début de ce notebook la librairie `numpy` qui offre des tableaux pour lesquels nombre d'opérations sont optimisées (parallélisées en particulier, permettant des performances de calcul impressionanntes, même par rapport à un même code écrit en `c` ou en `fortran`:"
      ],
      "metadata": {
        "id": "72tqsyeIrTSx"
      }
    },
    {
      "cell_type": "code",
      "source": [
        "x = np.array([1., 2., 3. ,4.])\n",
        "print(x)\n",
        "print(type(x)) # x est un numpy.ndarray\n",
        "print(x.dtype) # ici nous obtenons le type des éléments du tableau x"
      ],
      "metadata": {
        "id": "VIlsGwaUrJ72"
      },
      "execution_count": null,
      "outputs": []
    },
    {
      "cell_type": "markdown",
      "source": [
        "C'est là que cela devient spectaculaire pour les habitués des langages de bas niveau: on peut directement faire des opérations sur les tableaux, et ces opérations sont parallélisées, donc très efficaces si les tableaux sont grands:"
      ],
      "metadata": {
        "id": "zCCy5qJVsQsD"
      }
    },
    {
      "cell_type": "code",
      "source": [
        "y = x**2 # c'es comme ça que l'on élève à une puissance en python... bizarre je sais...\n",
        "print(y)\n",
        "z = 2 * x\n",
        "print(z)"
      ],
      "metadata": {
        "id": "iGyXQVk9serz"
      },
      "execution_count": null,
      "outputs": []
    },
    {
      "cell_type": "markdown",
      "source": [
        "C'est beau hein !"
      ],
      "metadata": {
        "id": "Q8pd6FZvs0iX"
      }
    },
    {
      "cell_type": "markdown",
      "source": [
        "On peut avoir des tableaux à deux dimensions:"
      ],
      "metadata": {
        "id": "xRN4aN2ls3Es"
      }
    },
    {
      "cell_type": "code",
      "source": [
        "a = np.array([[1,2,3], [4,5,6], [7,8,9]])\n",
        "print(a)\n",
        "print(3 * a)"
      ],
      "metadata": {
        "id": "zBozLeLas8rj"
      },
      "execution_count": null,
      "outputs": []
    },
    {
      "cell_type": "markdown",
      "source": [
        "Et bien sûr on peut faire des opérations matricielles:"
      ],
      "metadata": {
        "id": "hT16gdUdtMVh"
      }
    },
    {
      "cell_type": "code",
      "source": [
        "a = np.array([[1,2,3], [4,5,6], [7,8,9]])\n",
        "v = np.array([1,0,1])\n",
        "print(a)\n",
        "print(v)\n",
        "\n",
        "w = a @ v  #produit du vecteur v par la matrice a\n",
        "print(w)"
      ],
      "metadata": {
        "id": "tALYjR4jtPxq"
      },
      "execution_count": null,
      "outputs": []
    },
    {
      "cell_type": "markdown",
      "source": [
        "On va maintenant faire des graphes simples: commençons par tracer\n",
        "$$f(x) = 2x-1$$ pour des valeurs de $x$ comprises entre 0 et 5. Au lieu de remplir à la main le tableau de x, on va le faire en calculant les valeurs et en faisant notre première boucle en python:"
      ],
      "metadata": {
        "id": "n_63kNXEtoHP"
      }
    },
    {
      "cell_type": "code",
      "source": [
        "n = 10           # nombre d'éléments\n",
        "x = np.zeros(n)  # Tableau de n éléments avec que des zéros\n",
        "for i in range(n):\n",
        "  x[i] = i / (n-1) * 5\n",
        "print(x)"
      ],
      "metadata": {
        "id": "HoXemYg0vklz"
      },
      "execution_count": null,
      "outputs": []
    },
    {
      "cell_type": "markdown",
      "source": [
        "Notez la manère de faire une boucle: l'instruction précisant la variabe qui boucle et son domaine est sur la première ligne, sans indentation, Les instructions contenues dans la boucle suivent, et son forcément indentées. Du coup pas besoin de préciser la fin de la boucle, c'est lorsque l'indentation revient à celle du départ,\n",
        "\n",
        "En général, avec python il vaut mieux éviter autant que possible d;écrire des boucles mais plutot utiliser des opérations sur les vecteurs ou les opérations implémentées dans `numpy` qui vont toujours être parallélisées et optimisées.\n",
        "\n",
        "Python offre une fonction qui fait directement un tableau croissant. On va utiliser une fonction de `numpy` appelée `np.linspace()` qui remplit un tableau linéairement (il existe aussi `np.logspace()` si l'on veut un espacement logarithmique):"
      ],
      "metadata": {
        "id": "mBexONgAvliS"
      }
    },
    {
      "cell_type": "code",
      "source": [
        "x = np.linspace(0, 5, 10)  #10 valeurs entre 0 et 5\n",
        "y = 2 * x - 1\n",
        "print(x)\n",
        "print(y)"
      ],
      "metadata": {
        "id": "giDcXWsdt82w"
      },
      "execution_count": null,
      "outputs": []
    },
    {
      "cell_type": "markdown",
      "source": [
        "Pour tracer ces points on va utiliser les fonctions de la librairie `matplotlib` qui a été chargée au début de la session. On va ici utiliser `plot()`:"
      ],
      "metadata": {
        "id": "9B0t7qa7upBs"
      }
    },
    {
      "cell_type": "code",
      "source": [
        "plot(x,y)"
      ],
      "metadata": {
        "id": "w8KSt1Sku3HY"
      },
      "execution_count": null,
      "outputs": []
    },
    {
      "cell_type": "markdown",
      "source": [
        "Mais on aime aussi mettre des légendes et des labels sur les axes:"
      ],
      "metadata": {
        "id": "xiPhAKDMu62X"
      }
    },
    {
      "cell_type": "code",
      "source": [
        "plot(x,y)\n",
        "xlabel('x')\n",
        "ylabel('y')\n",
        "plot(x,y, label='f(x) = 2x-1')\n",
        "title('Jolie Figure')\n",
        "legend()"
      ],
      "metadata": {
        "id": "LCJV9_hdvFzS"
      },
      "execution_count": null,
      "outputs": []
    },
    {
      "cell_type": "markdown",
      "source": [
        "On peut aussi tracer des graphes à deux dimensions (sous formes d'images en couleur). On va tracer une Gaussienne à deux dimensions, centrés en 0 et de largeur 1 en x et 2 en y (21 points entre -10 et 10 pour chacun des axes)."
      ],
      "metadata": {
        "id": "0HxJpWflxA4o"
      }
    },
    {
      "cell_type": "code",
      "source": [
        "minx = -10.\n",
        "maxx = 10.\n",
        "npts = 21\n",
        "sigmax = 1.\n",
        "sigmay = 2.\n",
        "\n",
        "x = np.linspace(minx, maxx, npts)\n",
        "y = np.linspace(minx, maxx, npts)\n",
        "z = np.zeros((npts, npts))   #notez la syntaxe pour deux dimensions: deux parenthèse car les dmensiosn snt données sous la forme d'un \"tuple\"\n",
        "\n",
        "for i in range(npts):\n",
        "  for j in range(npts):\n",
        "    z[j, i] = np.exp( -0.5 * ( (x[i]/sigmax)**2 + (y[j]/sigmay)**2))\n",
        "    ### Notez ci-dessus l'inversion entre j et i car les tableaux de python sont en colonne-ligne... c'est la vie :-(\n",
        "print(z)"
      ],
      "metadata": {
        "id": "dY3PjIOwxAMK"
      },
      "execution_count": null,
      "outputs": []
    },
    {
      "cell_type": "markdown",
      "source": [
        "On trace maintenant l'image avec `imshow()` de `matplotlib`:"
      ],
      "metadata": {
        "id": "SGjecdDey3Hm"
      }
    },
    {
      "cell_type": "code",
      "source": [
        "imshow(z)"
      ],
      "metadata": {
        "id": "IjY133Hfy8R4"
      },
      "execution_count": null,
      "outputs": []
    },
    {
      "cell_type": "markdown",
      "source": [
        "On voit que les axes ne sont pas satisfaisants, ce sont simplement les indices des éléments. Il faut aller dans la doc de `imshow()` pour trouver ce qu'il convient de faire."
      ],
      "metadata": {
        "id": "kvaueR9CzV-R"
      }
    },
    {
      "cell_type": "code",
      "source": [
        "imshow(z, extent = [np.min(x), np.max(x), np.min(y), np.max(y)])\n",
        "xlabel('x')\n",
        "ylabel('y')\n",
        "title('mon premier plot 2D')\n",
        "colorbar(label='valeurs de z')"
      ],
      "metadata": {
        "id": "LIvz4XtezAfy"
      },
      "execution_count": null,
      "outputs": []
    },
    {
      "cell_type": "markdown",
      "source": [
        "Ou l'on a ajouté un titre, des axez et aussi une `colorbar()` sur le côté."
      ],
      "metadata": {
        "id": "uX2DYBOqzjjJ"
      }
    },
    {
      "cell_type": "markdown",
      "source": [
        "On aurait pu tout calculer beaucoup plus facilement, et avec bcp plus de points, en utilisant les opérations sur les tableaux:"
      ],
      "metadata": {
        "id": "pa5SyXU00U2J"
      }
    },
    {
      "cell_type": "code",
      "source": [
        "minx = -10.\n",
        "maxx = 10.\n",
        "npts = 201\n",
        "sigmax = 1.\n",
        "sigmay = 2.\n",
        "\n",
        "x = np.linspace(minx, maxx, npts)\n",
        "y = np.linspace(minx, maxx, npts)\n",
        "\n",
        "x2d, y2d = np.meshgrid(x,y)  # produit des tableaux à 2D de valeurs pour x et y en les répliquant comme il faut\n",
        "\n",
        "z = np.exp(-0.5 * ((x2d/sigmax)**2 + (y2d/sigmay)**2))\n",
        "imshow(z, extent = [np.min(x), np.max(x), np.min(y), np.max(y)])\n",
        "xlabel('x')\n",
        "ylabel('y')\n",
        "title('mon second plot 2D')\n",
        "colorbar(label='valeurs de z')"
      ],
      "metadata": {
        "id": "-PvTicP60d0v"
      },
      "execution_count": null,
      "outputs": []
    },
    {
      "cell_type": "markdown",
      "source": [
        "On pourrait aussi très facilement ajouter des contours sur cette image 2D, par exemple tous les 0.25 en z:"
      ],
      "metadata": {
        "id": "vHmQlwK287ei"
      }
    },
    {
      "cell_type": "code",
      "source": [
        "imshow(z, extent = [np.min(x), np.max(x), np.min(y), np.max(y)])\n",
        "colorbar(label='valeurs de z')\n",
        "clabel(contour(x2d, y2d, z, levels=np.linspace(0.,1,5), colors='k'), fontsize=8)\n",
        "xlabel('x')\n",
        "ylabel('y')\n",
        "title('mon second plot 2D')\n"
      ],
      "metadata": {
        "id": "2lZdFLtA9C6b"
      },
      "execution_count": null,
      "outputs": []
    },
    {
      "cell_type": "markdown",
      "source": [
        "On peut maintenant commencer à faire de la cosmologie !"
      ],
      "metadata": {
        "id": "P82coCen2O2v"
      }
    },
    {
      "cell_type": "markdown",
      "source": [
        "## Densités en fonction du décalage vers le rouge"
      ],
      "metadata": {
        "id": "FSjvnKB0oXJy"
      }
    },
    {
      "cell_type": "markdown",
      "metadata": {
        "id": "kORl7BNleTkg"
      },
      "source": [
        "Nous allons maintenant réaliser notre premier graphique, qui est lié à la cosmologie. Nous voulons tracer l'évolution de la densité de différentes espèces (Radiation, Matière et Constante cosmologique) en fonction du décalage vers le rouge. Nous utilisons les valeurs suivantes pour les différentes densités telles qu'exprimées aujourd'hui:"
      ]
    },
    {
      "cell_type": "code",
      "metadata": {
        "id": "z7p42t67eKju"
      },
      "source": [
        "h_0 = 0.7\n",
        "omega_l_0 = 0.7\n",
        "omega_r_0 = 4.3 * h_0**(-2) * 1e-5\n",
        "omega_m_0 = 0.3 - omega_r_0"
      ],
      "execution_count": null,
      "outputs": []
    },
    {
      "cell_type": "markdown",
      "metadata": {
        "id": "ZXTSKPuLerPG"
      },
      "source": [
        "On rappelle que: $$\\Omega(z) = \\Omega_r (1 + z)^4 + \\Omega_m (1 + z)^3 + \\Omega_\\Lambda$$\n",
        "\n",
        "Nous définissons un tableau contenant les décalages vers le rouge que nous voulons observer, avec un espacement logarithmique entre 1e-1 et 1e4 et 1000 éléments."
      ]
    },
    {
      "cell_type": "code",
      "metadata": {
        "id": "RolrcvH-enzT"
      },
      "source": [
        "z = np.logspace(-1, 4, 1000)\n",
        "\n",
        "### Imprimons les 10 premiers éléments\n",
        "print(z[0:10])"
      ],
      "execution_count": null,
      "outputs": []
    },
    {
      "cell_type": "markdown",
      "metadata": {
        "id": "pEl6_XzifGu_"
      },
      "source": [
        "Nous pouvons calculer directement les densités en utilisant le tableau des décalages vers le rouge comme suit:"
      ]
    },
    {
      "cell_type": "code",
      "metadata": {
        "id": "IhQRvSpbfD0D"
      },
      "source": [
        "om_r = omega_r_0 * (1 + z)**4\n",
        "om_m = omega_m_0 * (1 + z)**3\n",
        "# L'opération ci-dessous est une simple astuce permettant d'avoir une table de\n",
        "# om_l avec le même nombre d'éléments que les autres\n",
        "om_l = omega_l_0 + z*0\n",
        "total = om_r + om_m + om_l"
      ],
      "execution_count": null,
      "outputs": []
    },
    {
      "cell_type": "markdown",
      "metadata": {
        "id": "OpqTaWnrfeTg"
      },
      "source": [
        "Traçons maintenant notre premier graphique rerpésentant les densités et leur somme en fonction du redshift."
      ]
    },
    {
      "cell_type": "code",
      "metadata": {
        "id": "uh-a09qPfbb0"
      },
      "source": [
        "rc('figure',figsize=(10,5))\n",
        "xscale('log')\n",
        "yscale('log')\n",
        "xlabel('Redshift')\n",
        "ylabel(r'$\\Omega(z)$')\n",
        "plot(z,om_l, 'b', label = r'$\\Omega_\\Lambda(z)$')\n",
        "plot(z,om_r, 'k', label = r'$\\Omega_R(z)$')\n",
        "plot(z,om_m, 'g', label = r'$\\Omega_{NR}(z)$')\n",
        "plot(z,total, 'r', lw=2, label = 'Total')\n",
        "legend(loc='upper left', fontsize=13)\n",
        "title('Densities as a function of Redshift')"
      ],
      "execution_count": null,
      "outputs": []
    },
    {
      "cell_type": "markdown",
      "metadata": {
        "id": "O60kkPcSfvM6"
      },
      "source": [
        "***Question 1:*** Trouvez numériquement les valeurs de redshift de l'égalité matière-rayonnement et de la domination par $\\Lambda$, enregistrez-les dans une variable et affichez les valeurs."
      ]
    },
    {
      "cell_type": "code",
      "metadata": {
        "id": "LQCYvXHKfgxZ"
      },
      "source": [
        "### Tapez votre code ici"
      ],
      "execution_count": null,
      "outputs": []
    },
    {
      "cell_type": "markdown",
      "metadata": {
        "id": "iKNi32iKgOBk"
      },
      "source": [
        "***Question 2:*** Maintenant, refaites le graphique initial et matérialisez avec des lignes verticales en pointillés les valeurs que vous avez trouvées précédemment. On vous demande aussi d'afficher les décalages vers le rouge que vous avez trouvés dans la légende en utilisant le formatage de sortie de Python.\n",
        "\n",
        "Voici un exemple pour imprimer $\\pi$ avec un maximum de 6 caractères et 2 chiffres après la virgule:\n",
        "```\n",
        "print('pi vaut {0:6.2f}'.format(np.pi))\n",
        "```"
      ]
    },
    {
      "cell_type": "code",
      "metadata": {
        "id": "1OPB8YWwf2yC"
      },
      "source": [
        "### Tapez votre code ici"
      ],
      "execution_count": null,
      "outputs": []
    },
    {
      "cell_type": "markdown",
      "metadata": {
        "id": "koTTEAN3g1ru"
      },
      "source": [
        "Notez la manière d'ajouter des valeurs numériques à partir d'une variable dans le graphique. Cela sera utile plus tard.\n",
        "\n",
        "Maintenant, vous savez comment faire un graphique simple à partir d'un tableau, et comment manipuler des tableaux et effectuer des opérations avec eux.\n"
      ]
    },
    {
      "cell_type": "markdown",
      "source": [
        "## Distances cosmologiques\n"
      ],
      "metadata": {
        "id": "pO0-3Mz-ogIE"
      }
    },
    {
      "cell_type": "markdown",
      "metadata": {
        "id": "Ob8_zLMXhFRq"
      },
      "source": [
        "\n",
        "### Quelques rappels\n",
        "\n",
        "Rappelons que les distances en cosmologie ne sont pas aussi simples que dans notre vie quotidienne en raison de l'effet de l'expansion de l'Univers. On doit calculer les distances sur la variété courbée et en expansion dont la métrique est donnée par la métrique de Friedman-Lemaître-Robertson-Walker :\n",
        "$$ds^2 = dt^2 - a^2(t)\\left[\\frac{dr^2}{1-kr^2} + r^2 d\\theta^2 + r^2\\sin^2\\theta d\\phi^2\\right]$$  \n",
        "où nous avons fixé $c=1$ et $k$ est le paramètre de courbure et peut prendre les valeurs -1, 0 ou 1 correspondant respectivement aux Univers ouverts, plats et fermés.\n",
        "\n",
        "La différence de coordonnées spatiales radiales entre un point à 0 et un point de rayon $r$ est :\n",
        "$$\\Delta r(z) = \\int_0^r \\frac{dr'}{\\sqrt{1-kr'^2}}$$\n",
        "\n",
        "Four un photon, le voyage se fait à la vitesse de la lumière quel que soit le référentiel (principe de la relativité) et l'invariant $ds^2$ est donc égal à zéro :\n",
        "$$ds^2 = 0 = dt^2-a^2\\frac{dr^2}{1-kr^2}$$\n",
        "de sorte que\n",
        "$$\\frac{dr}{\\sqrt{1-kr^2}}=\\frac{dt}{a}$$\n",
        "Nous rappelons également la définition du décalage vers le rouge :  $$1+z = \\frac{a0}{a}$$ et en dérivant par rapport au temps :\n",
        "$$\\frac{dz}{dt}= -\\dot{a}\\frac{a_0}{a^2}$$ impliquant $$\\frac{dt}{a} = -\\frac{dz}{a_0}\\times\\frac{a}{\\dot{a}}$$, puis en introduisant le paramètre de Hubble $H=\\frac{\\dot{a}}{a}$, nous pouvons réécrire la différence de coordonnées comme :\n",
        "$$\\Delta r(z) = \\frac{1}{a_0}\\int_0^z \\frac{dz'}{H(z')}$$.\n",
        "\n",
        "En multipliant cette différence de coordonnées par le facteur d'échelle aujourd'hui $a_0$, on obtient la distance propre comobile : $$D_P(z) = a_0 \\Delta r(z) = \\int_0^z \\frac{dz'}{H(z')}$$\n",
        "\n",
        "Cette dernière peut être multipliée par $1+z$ pour obtenir la distance de luminosité ou divisée par $1+z$ pour obtenir la distance angulaire."
      ]
    },
    {
      "cell_type": "markdown",
      "metadata": {
        "id": "_BZ60nrDhagd"
      },
      "source": [
        "### Calcul de la distance de luminosité\n",
        "Nous allons d'abord calculer et tracer H(z) avec 1000 valeurs de z entre 0 et 1 espacées linéairement (la fonction à utiliser est linspace()) en utilisant la formule du cours pour H(z) et les paramètres cosmologiques définis aux mêmes valeurs que ci-dessus. Vous pouvez également jouer avec les paramètres cosmologiques pour voir les changements. Nous rappelons que $$H(z)=H_0\\sqrt{\\Omega_k(1 + z)^2 + \\Omega_\\Lambda + \\Omega_m (1 + z)^3}$$\n",
        "\n",
        "***Question 3:*** Faites-le vous-même dans la cellule suivante, la variable H(z) doit être appelée \"hz\". Vous êtes ensuite prié de tracer H en fonction de z. N'oubliez pas de mettre des étiquettes sur vos axes ainsi qu'une légende. Vous aurez besoin de choisir une valeur pour la constante de Hubble, par exemple 70 km/sec/Mpc."
      ]
    },
    {
      "cell_type": "code",
      "metadata": {
        "id": "rvwLatV-grIm"
      },
      "source": [
        "### Tapez votre code ici"
      ],
      "execution_count": null,
      "outputs": []
    },
    {
      "cell_type": "markdown",
      "metadata": {
        "id": "n5YXbf4ehuHc"
      },
      "source": [
        "Maintenant, nous calculons la distance de luminosité $$D_l(z) = c(1+z)\\int_0^z \\frac{\\mathrm{d}z'}{H(z')}$$ en utilisant les fonctionnalités d'intégration numérique de la bibliothèque `scipy` (intégrale cumulative trapézoïdale), et sans oublier de remettre la vitesse de la lumière en km/sec afin d'avoir à la fin de Mpc (puisque la contante de Hubble est en km/sec/Mpc) :"
      ]
    },
    {
      "cell_type": "code",
      "metadata": {
        "id": "Bnkk1b78hqwJ"
      },
      "source": [
        "import scipy.integrate\n",
        "dp = np.zeros(len(z))\n",
        "dp[1:] = scipy.integrate.cumtrapz(1./hz, z) * 3e5"
      ],
      "execution_count": null,
      "outputs": []
    },
    {
      "cell_type": "markdown",
      "metadata": {
        "id": "iGisXWWhhzRV"
      },
      "source": [
        "***Question 4:*** Vous êtes invité à tracer la distance de luminosité en fonction du décalage vers le rouge dans la cellule suivante (rappelez-vous que $D_L(z) = (1+z)\\times D_p(z)$). Vous appellerez la variable contenant la distance de luminosité `dl`:"
      ]
    },
    {
      "cell_type": "code",
      "metadata": {
        "id": "Q9X6SM1Shwht"
      },
      "source": [
        "### Tapez votre code ici"
      ],
      "execution_count": null,
      "outputs": []
    },
    {
      "cell_type": "markdown",
      "metadata": {
        "id": "I2NjpaZth8vV"
      },
      "source": [
        "### Utilisation de la bibliothèque cosmolib\n",
        "Afin de simplifier nos vies, j'ai préparé une bibliothèque pour le cours appelée `cosmolib.py` qui se trouve dans le même répertoire. Je vous encourage à examiner les différents codes que nous utiliserons à partir de cette bibliothèque afin de voir comment de tels outils peuvent être simplement codés.\n",
        "\n",
        "La bibliothèque nécessite l'installation préalable de deux bibliothèques publiques : `emcee` et `iminuit`"
      ]
    },
    {
      "cell_type": "code",
      "metadata": {
        "id": "v3hMGa1Sh1sN"
      },
      "source": [
        "!pip install emcee\n",
        "!pip install iminuit"
      ],
      "execution_count": null,
      "outputs": []
    },
    {
      "cell_type": "markdown",
      "metadata": {
        "id": "_jdwu2vwjXOK"
      },
      "source": [
        "Voici comment récupérer le fichier `cosmolib.py` depuis `GitHub` directement en utilisant `Google Colaboratory`.\n",
        "\n",
        "Notez que nous commençons par supprimer une éventuelle version du fichier dans le répertoire local de Google Colab, puis nous le téléchargeons en utilisant wget, et enfin nous listons le contenu du répertoire. Toutes ces commandes sont des commandes Unix typiques qui sont exécutées depuis Google Colaboratory en ajoutant un point d'exclamation pour lui indiquer qu'il doit exécuter des commandes Unix :"
      ]
    },
    {
      "cell_type": "code",
      "metadata": {
        "id": "NnP2JxQwjjx-"
      },
      "source": [
        "!rm -rf cosmolib.py*\n",
        "!wget --no-check-certificate https://raw.githubusercontent.com/jchamilton75/CS-ST4-Cosmo-2020/master/cosmolib.py\n",
        "!ls -lrt"
      ],
      "execution_count": null,
      "outputs": []
    },
    {
      "cell_type": "markdown",
      "metadata": {
        "id": "BtA4EQacoMI0"
      },
      "source": [
        "Maintenant, importons la bibliothèque et attribuons-lui l'espace de noms (namespace) `cs` afin que chaque fois que nous appellerons l'une de ses fonctions, ce sera comme suit :\n",
        "```\n",
        "cs.myfunction()\n",
        "```\n",
        "\n"
      ]
    },
    {
      "cell_type": "code",
      "metadata": {
        "id": "oQVZYoDjoacH"
      },
      "source": [
        "import cosmolib as cs"
      ],
      "execution_count": null,
      "outputs": []
    },
    {
      "cell_type": "markdown",
      "metadata": {
        "id": "YwYalOwoiXBO"
      },
      "source": [
        "Il contient une fonction, appelée `cs.lumdist()` pour les distances de luminosité qui est légèrement plus précise que celle que nous avons calculée ci-dessus, mais les différences sont très petites.\n",
        "\n",
        "Elle est appelée de la manière suivante, qui utilise un \"dictionnaire python\" pour spécifier la valeur des paramètres cosmologiques. Les trois paramètres qui sont acceptés sont :\n",
        "- *h* pour la constante de Hubble à un décalage vers le rouge de 0 divisée par 100\n",
        "- *omega_M_0* pour $\\Omega_m$ aujourd'hui à un décalage vers le rouge de 0\n",
        "- *omega_lambda_0* pour $\\Omega_\\Lambda$ à un décalage vers le rouge de 0\n",
        "- *w0* pour l'équation d'état de l'Énergie Sombre. (non traitée en cours).\n",
        "\n",
        "**Remarque:** L'équation d'état de l'Énergie Sombre n'a pas été discutée dans les cours en raison du manque de temps. Cependant, c'est l'un des principaux défis de la cosmologie observationnelle de la mesurer aujourd'hui. Les SNIa sont une sonde sensible pour ce paramètre. L'équation d'état est le rapport entre la pression et la densité de l'Énergie Sombre (comme pour un gaz parfait). Cependant, dans le cas de l'Énergie Sombre ou de la Constante Cosmologique, le rapport est négatif (vous avez besoin d'une pression négative pour avoir une expansion accélérée comme on peut le voir dans la deuxième équation de Friedman - voir les cours). Pour une constante cosmologique parfaite w=0 et pour les modèles d'Énergie Sombre, elle peut avoir d'autres valeurs, et éventuellement varier avec le décalage vers le rouge. Ne vous inquiétez pas de cela maintenant et contentez-vous de le fixer à -1."
      ]
    },
    {
      "cell_type": "code",
      "metadata": {
        "id": "1PzAQJBNiKAu"
      },
      "source": [
        "z = np.linspace(0,1,1000)\n",
        "cosmo_lcdm = {'h':0.7, 'omega_M_0':0.3, 'omega_lambda_0':0.7, 'w0':-1.}\n",
        "dlnew = cs.lumdist(z, cosmo_lcdm)"
      ],
      "execution_count": null,
      "outputs": []
    },
    {
      "cell_type": "markdown",
      "metadata": {
        "id": "sRvltPU6ojgp"
      },
      "source": [
        "Comme vous pouvez le constater, les valeurs des paramètres cosmologiques sont spécifiées à l'aide d'un dictionnaire Python, un outil très utile en Python lorsque l'on a besoin de contenants de différents types de données avec des étiquettes pour chacun.\n",
        "\n",
        "***Question 5:*** Dans la cellule suivante, vous devez superposer les deux distances de luminosité que nous avons calculées (si vous voulez jouer, vous pouvez également examiner la différence ou la différence relative entre les deux)."
      ]
    },
    {
      "cell_type": "code",
      "metadata": {
        "id": "ZFdE2L0GnF0a"
      },
      "source": [
        "### Tapez votre code ici"
      ],
      "execution_count": null,
      "outputs": []
    },
    {
      "cell_type": "markdown",
      "metadata": {
        "id": "cqv_9gohjjHW"
      },
      "source": [
        "### Angular distance:\n",
        "Similarly to the luminosity distance, the cosmolib library has a angdist() function that is called the same way. We calculate it and compare to the previously calculated luminsotity distance in the following cell:"
      ]
    },
    {
      "cell_type": "code",
      "metadata": {
        "id": "Ocgi0a0LjktG"
      },
      "source": [
        "dang = cs.angdist(z, cosmo_lcdm)\n",
        "plot(z, dlnew, 'red', label='Luminosity Distance')\n",
        "plot(z, dang, 'blue', label='Angular Distance')\n",
        "xlabel('Redshift')\n",
        "ylabel('Distance [Mpc]')\n",
        "legend()"
      ],
      "execution_count": null,
      "outputs": []
    },
    {
      "cell_type": "markdown",
      "metadata": {
        "id": "4sa7ktJDr-Zx"
      },
      "source": [
        "### Superposition des modèles cosmologiques aux données observationnelles :\n",
        "Supposons que vous ayez réalisé une expérience qui a mesuré les distances angulaires (en utilisant les oscillations acoustiques baryoniques) à différents décalages vers le rouge et obtenu les mesures suivantes (celles-ci sont extraites de l'expérience SDSS-3 Boss https://arxiv.org/abs/1607.03155 avec une légère conversion pour vous faciliter la tâche) :\n",
        "\n",
        "| Redshift | Distance angulaire [Mpc] | Incertitude sur $D_A$ [Mpc] |\n",
        "| --- | --- | --- |\n",
        "| 0.38 | 1081 | 15 |\n",
        "| 0.51 | 1276 | 19 |\n",
        "| 0.61 | 1370 | 26 |\n",
        "\n",
        "Ces données peuvent être représentées de la manière suivante:"
      ]
    },
    {
      "cell_type": "code",
      "metadata": {
        "id": "1XXTje8ltZdt"
      },
      "source": [
        "z_bao = np.array([0.38, 0.51, 0.61])\n",
        "dang_bao = np.array([1081., 1276., 1370.])\n",
        "err_dang_bao = np.array([15., 19., 26.])\n",
        "errorbar(z_bao, dang_bao, yerr=err_dang_bao, fmt='bo', label='SDSS Data DR12 [https://arxiv.org/abs/1607.03155]')\n",
        "xlabel('z')\n",
        "ylabel('$D_A(z)~[Mpc]$')\n",
        "legend(loc='upper left')"
      ],
      "execution_count": null,
      "outputs": []
    },
    {
      "cell_type": "markdown",
      "metadata": {
        "id": "e7zwRnfCtgeB"
      },
      "source": [
        "**Question 6:** Superposez les modèles théoriques pour trois ensembles de paramètres cosmologiques :\n",
        "\n",
        "\n",
        "1.   $\\Lambda$CDM avec h=0.7, $\\Omega_m$=0.3, $\\Omega_\\Lambda$=0.7 (et $w$=-1)\n",
        "2.   Le modèle dit \"ouvert\" avec h=0.7, $\\Omega_m$=0.3, $\\Omega_\\Lambda$=0.0 (et $w$=-1)\n",
        "3.   Le modèle dit \"plat\" avec  h=0.7, $\\Omega_m$=1.0, $\\Omega_\\Lambda$=0. (et $w$=-1)\n",
        "\n",
        "[NB : Le modèle 3 est appelé \"plat\" dans le sens \"plat sans $\\Lambda$\" car vous avez tous remarqué que $\\Lambda$CDM est également plat.]\n",
        "\n"
      ]
    },
    {
      "cell_type": "code",
      "metadata": {
        "id": "pIs16pP_tjGb"
      },
      "source": [
        "### Tapez votre code ici"
      ],
      "execution_count": null,
      "outputs": []
    },
    {
      "cell_type": "markdown",
      "metadata": {
        "id": "TChSUlyDtjmk"
      },
      "source": [
        "Vous devriez remarquer ici que $\\Lambda$CDM fonctionne beaucoup mieux, mais vous pouvez également remarquer que le fait de changer la constante de Hubble-Lemaître à d'autres valeurs (autour de 0.6 - 0.65) dans les deux autres modèles donne des prédictions qui sont en assez bon accord avec les données. Cela montre une dégénérescence inhérente entre les paramètres cosmologiques qui ne peut être levée que par la combinaison de différentes sondes cosmologiques (BAO comme ici, les supernovae de type Ia et le CMB)."
      ]
    },
    {
      "cell_type": "markdown",
      "metadata": {
        "id": "MbdJmaeBpAy4"
      },
      "source": [
        "## Calcul de l'âge de l'Univers"
      ]
    },
    {
      "cell_type": "markdown",
      "source": [
        "De manière similaire au calcul de la distance, on peut calculer le temps écoulé depuis un décalage vers le rouge donné (nous avons utilisé des changements de variables similaires à ceux ci-dessus) :\n",
        "$$t(z) = \\int_t^{t0} dt' = \\int_0^z \\frac{dz'}{(1+z')H(z')}$$\n",
        "\n",
        "Calculer cette intégrale de 0 à l'infini donne l'âge de l'Univers pour un modèle cosmologique donné. Vous pouvez implémenter votre propre calcul de l'âge de l'Univers ou utiliser la fonction disponible dans la bibliothèque cosmolib : `age [Gyr] = cs.lookback(z, cosmo)`\n",
        "\n",
        "où z peut être simplement une valeur ou un tableau `numpy` de décalages vers le rouge et `cosmo` est un dictionnaire donné de la manière suivante :\n"
      ],
      "metadata": {
        "id": "TK0ugSAapI0L"
      }
    },
    {
      "cell_type": "code",
      "metadata": {
        "id": "6dLxRWQsol8N"
      },
      "source": [
        "cosmo_lcdm = {'h':0.7, 'omega_M_0':0.3, 'omega_lambda_0':0.7, 'w0':-1.}"
      ],
      "execution_count": null,
      "outputs": []
    },
    {
      "cell_type": "markdown",
      "metadata": {
        "id": "wS-zMQAGrBwF"
      },
      "source": [
        "Calculons le temps écoulé entre le redshift 0.1 et aujourd'hui"
      ]
    },
    {
      "cell_type": "code",
      "metadata": {
        "id": "dQGAjFGcpE0C"
      },
      "source": [
        "print(cs.lookback(0.1, cosmo_lcdm))"
      ],
      "execution_count": null,
      "outputs": []
    },
    {
      "cell_type": "markdown",
      "metadata": {
        "id": "pQo0yAbyrHq4"
      },
      "source": [
        "Et calculons à présent le temps écoulé depuis plusieurs redshifts, stockés dans une tableau `numpy`L"
      ]
    },
    {
      "cell_type": "code",
      "metadata": {
        "id": "IdsxU5i4rGcM"
      },
      "source": [
        "zvalues = np.array([0.1, 1, 10])\n",
        "print(cs.lookback(zvalues, cosmo_lcdm))"
      ],
      "execution_count": null,
      "outputs": []
    },
    {
      "cell_type": "markdown",
      "metadata": {
        "id": "3wEFpPturfuJ"
      },
      "source": [
        "***Question 7:*** Dans la cellule suivante, calculez le temps écoulé entre aujourd'hui et 1000 décalages vers le rouge répartis de manière logarithmique entre $10^{-4}$ et $10^4$ pour le modèle cosmologique standard $\\Lambda$CDM et représentez-le en fonction du décalage vers le rouge."
      ]
    },
    {
      "cell_type": "code",
      "metadata": {
        "id": "dijhCcaprTDP"
      },
      "source": [
        "### Tapez votre code ici"
      ],
      "execution_count": null,
      "outputs": []
    },
    {
      "cell_type": "markdown",
      "metadata": {
        "id": "7H4ldqfhrrft"
      },
      "source": [
        "***Question 8:*** Vous devriez remarquer qu'au-delà de $𝑧=10$ , le temps écoulé atteint son maximum, l'âge de l'Univers dont la valeur est donc le maximum de ce tableau. Vous êtes censé l'afficher dans la cellule suivante :"
      ]
    },
    {
      "cell_type": "code",
      "metadata": {
        "id": "-vw3ahGzritW"
      },
      "source": [
        "### Tapez votre code ici"
      ],
      "execution_count": null,
      "outputs": []
    },
    {
      "cell_type": "markdown",
      "metadata": {
        "id": "Elpv2vNRryRD"
      },
      "source": [
        "Vous allez maintenant calculer cet âge en fonction des paramètres cosmologiques. Pour cela, vous devrez effectuer des boucles et utiliser des tableaux bidimensionnels.\n",
        "\n",
        "**Question 9 :** Calculez l'âge de l'Univers en fonction de la densité de matière (30 ou 100 valeurs entre 0 et 1) et de la densité de la constante cosmologique (30 ou 100 valeurs entre 0 et 1,5). Pour chaque couple de valeurs, vous calculerez l'âge de l'Univers et remplirez un tableau 2D. Ensuite, vous représenterez cet âge à l'aide d'un graphique 2D en couleur en utilisant la fonction `imshow()` de `matplotlib`. N'oubliez pas d'ajouter des axes corrects, un titre et des étiquettes sur les axes. Vous ajouterez également une barre de couleur à côté de l'image en appelant la fonction `colorbar()` juste après votre graphique 2D."
      ]
    },
    {
      "cell_type": "code",
      "metadata": {
        "id": "pQLDFbTUrxZL"
      },
      "source": [
        "### Tapez votre code ici"
      ],
      "execution_count": null,
      "outputs": []
    },
    {
      "cell_type": "markdown",
      "metadata": {
        "id": "H_ZkMfobsMKL"
      },
      "source": [
        "***Question 10:*** Vous êtes maintenant invité à refaire le même graphique en ajoutant :\n",
        "- des contours pour différentes valeurs entières de l'âge de l'Univers (entre 0 et 20 GYr). Vous devriez utiliser les fonctions `contour()` et `contourf()` de `matplotlib` qui vous permettent respectivement de tracer et de remplir les contours avec des couleurs. Notez que ces fonctions attendent des tableaux 2D comme coordonnées x et y pour les valeurs à afficher, vous devrez donc construire des tableaux 2D à partir de vos tableaux x et y 1D en utilisant la fonction `np.meshgrid()`\n",
        "- un contour supplémentaire (couleur différente) pour l'étoile HE1523-0901 dont l'âge a été mesuré à 13.2 Gyr\n",
        "- Une étoile aux coordonnées correspondant au cosmologie $\\Lambda CDM$ ($\\Omega_m=0.3$, $\\Omega_\\Lambda=0.7$)\n",
        "- Un point dans une couleur donnée pour l'Univers ouvert sans $\\Lambda$ ($\\Omega_m=0.3$, $\\Omega_\\Lambda=0$)\n",
        "- Un point dans une autre couleur pour l'univers plat sans $\\Lambda$ ($\\Omega_m=1$, $\\Omega_\\Lambda=0$)\n",
        "\n",
        "Et bien sûr, inclure tout cela dans une légende.\n",
        "\n",
        "Pour les contours, utilisez les fonctions `contour()` et `contourf()` de `Matplotlib`.\n",
        "\n",
        "À la fin, vous devriez obtenir le graphique suivant, qui semble pouvoir être publié dans un article...  ![ageUniverse](http://www.apc.univ-paris7.fr/Downloads/cosmobs/JCH/CentraleSupelec/age.png)"
      ]
    },
    {
      "cell_type": "code",
      "metadata": {
        "id": "40OdJld6r5Q3"
      },
      "source": [
        "### Tapez votre code ici"
      ],
      "execution_count": null,
      "outputs": []
    },
    {
      "cell_type": "markdown",
      "metadata": {
        "id": "_TJyqh72uAPB"
      },
      "source": [
        "Fin du Notebook 1 - Vous voyez ! Vous avez survécu !"
      ]
    }
  ]
}